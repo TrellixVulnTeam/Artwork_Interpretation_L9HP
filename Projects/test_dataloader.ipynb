{
 "cells": [
  {
   "cell_type": "code",
   "execution_count": 1,
   "id": "0ec765ea-8849-41ba-8a7e-dcf30e9b1b8a",
   "metadata": {},
   "outputs": [
    {
     "ename": "ImportError",
     "evalue": "numpy.core.multiarray failed to import",
     "output_type": "error",
     "traceback": [
      "\u001b[0;31m---------------------------------------------------------------------------\u001b[0m",
      "\u001b[0;31mImportError\u001b[0m                               Traceback (most recent call last)",
      "\u001b[0;32m<ipython-input-1-6e4a60cbc92a>\u001b[0m in \u001b[0;36m<module>\u001b[0;34m\u001b[0m\n\u001b[1;32m      1\u001b[0m \u001b[0;32mimport\u001b[0m \u001b[0mrandom\u001b[0m\u001b[0;34m\u001b[0m\u001b[0;34m\u001b[0m\u001b[0m\n\u001b[0;32m----> 2\u001b[0;31m \u001b[0;32mfrom\u001b[0m \u001b[0mdata\u001b[0m \u001b[0;32mimport\u001b[0m \u001b[0mImageDetectionsField\u001b[0m\u001b[0;34m,\u001b[0m \u001b[0mTextField\u001b[0m\u001b[0;34m,\u001b[0m \u001b[0mRawField\u001b[0m\u001b[0;34m\u001b[0m\u001b[0;34m\u001b[0m\u001b[0m\n\u001b[0m\u001b[1;32m      3\u001b[0m \u001b[0;32mfrom\u001b[0m \u001b[0mdata\u001b[0m \u001b[0;32mimport\u001b[0m \u001b[0mCOCO\u001b[0m\u001b[0;34m,\u001b[0m \u001b[0mDataLoader\u001b[0m\u001b[0;34m\u001b[0m\u001b[0;34m\u001b[0m\u001b[0m\n\u001b[1;32m      4\u001b[0m \u001b[0;32mfrom\u001b[0m \u001b[0mdata\u001b[0m\u001b[0;34m.\u001b[0m\u001b[0mdataset\u001b[0m \u001b[0;32mimport\u001b[0m \u001b[0mAP_Dataset\u001b[0m\u001b[0;34m\u001b[0m\u001b[0;34m\u001b[0m\u001b[0m\n\u001b[1;32m      5\u001b[0m \u001b[0;32mimport\u001b[0m \u001b[0mevaluation\u001b[0m\u001b[0;34m\u001b[0m\u001b[0;34m\u001b[0m\u001b[0m\n",
      "\u001b[0;32m/hy-nas/meshed-memory-transformer/data/__init__.py\u001b[0m in \u001b[0;36m<module>\u001b[0;34m\u001b[0m\n\u001b[0;32m----> 1\u001b[0;31m \u001b[0;32mfrom\u001b[0m \u001b[0;34m.\u001b[0m\u001b[0mfield\u001b[0m \u001b[0;32mimport\u001b[0m \u001b[0mRawField\u001b[0m\u001b[0;34m,\u001b[0m \u001b[0mMerge\u001b[0m\u001b[0;34m,\u001b[0m \u001b[0mImageDetectionsField\u001b[0m\u001b[0;34m,\u001b[0m \u001b[0mTextField\u001b[0m\u001b[0;34m\u001b[0m\u001b[0;34m\u001b[0m\u001b[0m\n\u001b[0m\u001b[1;32m      2\u001b[0m \u001b[0;32mfrom\u001b[0m \u001b[0;34m.\u001b[0m\u001b[0mdataset\u001b[0m \u001b[0;32mimport\u001b[0m \u001b[0mCOCO\u001b[0m\u001b[0;34m\u001b[0m\u001b[0;34m\u001b[0m\u001b[0m\n\u001b[1;32m      3\u001b[0m \u001b[0;32mfrom\u001b[0m \u001b[0mtorch\u001b[0m\u001b[0;34m.\u001b[0m\u001b[0mutils\u001b[0m\u001b[0;34m.\u001b[0m\u001b[0mdata\u001b[0m \u001b[0;32mimport\u001b[0m \u001b[0mDataLoader\u001b[0m \u001b[0;32mas\u001b[0m \u001b[0mTorchDataLoader\u001b[0m\u001b[0;34m\u001b[0m\u001b[0;34m\u001b[0m\u001b[0m\n\u001b[1;32m      4\u001b[0m \u001b[0;34m\u001b[0m\u001b[0m\n\u001b[1;32m      5\u001b[0m \u001b[0;32mclass\u001b[0m \u001b[0mDataLoader\u001b[0m\u001b[0;34m(\u001b[0m\u001b[0mTorchDataLoader\u001b[0m\u001b[0;34m)\u001b[0m\u001b[0;34m:\u001b[0m\u001b[0;34m\u001b[0m\u001b[0;34m\u001b[0m\u001b[0m\n",
      "\u001b[0;32m/hy-nas/meshed-memory-transformer/data/field.py\u001b[0m in \u001b[0;36m<module>\u001b[0;34m\u001b[0m\n\u001b[1;32m      1\u001b[0m \u001b[0;31m# coding: utf8\u001b[0m\u001b[0;34m\u001b[0m\u001b[0;34m\u001b[0m\u001b[0;34m\u001b[0m\u001b[0m\n\u001b[1;32m      2\u001b[0m \u001b[0;32mfrom\u001b[0m \u001b[0mcollections\u001b[0m \u001b[0;32mimport\u001b[0m \u001b[0mCounter\u001b[0m\u001b[0;34m,\u001b[0m \u001b[0mOrderedDict\u001b[0m\u001b[0;34m\u001b[0m\u001b[0;34m\u001b[0m\u001b[0m\n\u001b[0;32m----> 3\u001b[0;31m \u001b[0;32mfrom\u001b[0m \u001b[0mtorch\u001b[0m\u001b[0;34m.\u001b[0m\u001b[0mutils\u001b[0m\u001b[0;34m.\u001b[0m\u001b[0mdata\u001b[0m\u001b[0;34m.\u001b[0m\u001b[0mdataloader\u001b[0m \u001b[0;32mimport\u001b[0m \u001b[0mdefault_collate\u001b[0m\u001b[0;34m\u001b[0m\u001b[0;34m\u001b[0m\u001b[0m\n\u001b[0m\u001b[1;32m      4\u001b[0m \u001b[0;32mfrom\u001b[0m \u001b[0mitertools\u001b[0m \u001b[0;32mimport\u001b[0m \u001b[0mchain\u001b[0m\u001b[0;34m\u001b[0m\u001b[0;34m\u001b[0m\u001b[0m\n\u001b[1;32m      5\u001b[0m \u001b[0;32mimport\u001b[0m \u001b[0msix\u001b[0m\u001b[0;34m\u001b[0m\u001b[0;34m\u001b[0m\u001b[0m\n",
      "\u001b[0;32m/usr/local/miniconda3/envs/m2release/lib/python3.6/site-packages/torch/__init__.py\u001b[0m in \u001b[0;36m<module>\u001b[0;34m\u001b[0m\n\u001b[1;32m     77\u001b[0m \u001b[0;32mdel\u001b[0m \u001b[0m_dl_flags\u001b[0m\u001b[0;34m\u001b[0m\u001b[0;34m\u001b[0m\u001b[0m\n\u001b[1;32m     78\u001b[0m \u001b[0;34m\u001b[0m\u001b[0m\n\u001b[0;32m---> 79\u001b[0;31m \u001b[0;32mfrom\u001b[0m \u001b[0mtorch\u001b[0m\u001b[0;34m.\u001b[0m\u001b[0m_C\u001b[0m \u001b[0;32mimport\u001b[0m \u001b[0;34m*\u001b[0m\u001b[0;34m\u001b[0m\u001b[0;34m\u001b[0m\u001b[0m\n\u001b[0m\u001b[1;32m     80\u001b[0m \u001b[0;34m\u001b[0m\u001b[0m\n\u001b[1;32m     81\u001b[0m __all__ += [name for name in dir(_C)\n",
      "\u001b[0;31mImportError\u001b[0m: numpy.core.multiarray failed to import"
     ]
    }
   ],
   "source": [
    "import random\n",
    "from data import ImageDetectionsField, TextField, RawField\n",
    "from data import COCO, DataLoader\n",
    "from data.dataset import AP_Dataset\n",
    "import evaluation\n",
    "from evaluation import PTBTokenizer, Cider\n",
    "from models.transformer import Transformer, MemoryAugmentedEncoder, MeshedDecoder, ScaledDotProductAttentionMemory\n",
    "import torch\n",
    "from torch.optim import Adam\n",
    "from torch.optim.lr_scheduler import LambdaLR\n",
    "from torch.nn import NLLLoss\n",
    "from torch.utils.tensorboard import SummaryWriter\n",
    "from torch.utils.data import DataLoader as TorchDataLoader\n",
    "from torch.utils.data import Dataset as TorchDataset\n",
    "import argparse, os, pickle\n",
    "from tqdm import tqdm\n",
    "import numpy as np\n",
    "import itertools\n",
    "import multiprocessing\n",
    "from shutil import copyfile\n",
    "import h5py\n",
    "\n",
    "random.seed(1234)\n",
    "torch.manual_seed(1234)\n",
    "np.random.seed(1234)"
   ]
  },
  {
   "cell_type": "code",
   "execution_count": 2,
   "id": "e2149789-33e8-4dad-b6b5-8ea14aa2ffe9",
   "metadata": {},
   "outputs": [],
   "source": [
    "def text_progress(minibatch, text_field):\n",
    "#         print(f\"text_progress {0}\", minibatch)\n",
    "    batch_tokens = [batch['cap'] for batch in minibatch]\n",
    "#         print(f\"text_progress {1}\", batch_tokens)\n",
    "    padded_tokens = text_field.pad(batch_tokens)\n",
    "#         print(f\"text_progress {2}\", padded_tokens)\n",
    "    token_ids = text_field.numericalize(padded_tokens)\n",
    "#         print(f\"text_progress {3}\", token_ids)\n",
    "    return {\"roi_feat\": torch.from_numpy(np.array([batch['roi_feat'] for batch in minibatch])),\n",
    "            \"cap\": token_ids}"
   ]
  },
  {
   "cell_type": "code",
   "execution_count": 3,
   "id": "46c4053c-1ce6-40ff-9b29-81ba0f7fd259",
   "metadata": {},
   "outputs": [
    {
     "name": "stdout",
     "output_type": "stream",
     "text": [
      "loading file: Done !\n"
     ]
    }
   ],
   "source": [
    "ap_train_dataset = h5py.File(\"../Dataset/artpedia/artpedia_train2.hdf5\", \"r\")\n",
    "\n",
    "train_myidx = np.load('../Dataset/artpedia/train_myidx.npy')\n",
    "   \n",
    "ap_train_dataset = h5py.File(\"../Dataset/artpedia/artpedia_train2.hdf5\", \"r\")\n",
    "\n",
    "train_item2imgCapIdx = np.load(\"../Dataset/artpedia/train_item2imgCapIdx.npy\", allow_pickle=True).item()\n",
    "\n",
    "text_field = TextField(init_token='<bos>', eos_token='<eos>', fix_length=30, lower=True, tokenize='spacy',\n",
    "                           remove_punctuation=True, nopoints=False)\n",
    "text_field.vocab = pickle.load(open('vocab.pkl', 'rb'))\n",
    "print(\"loading file: Done !\")"
   ]
  },
  {
   "cell_type": "code",
   "execution_count": 4,
   "id": "bc0c91cb-59da-4a62-9101-42aa1d6f7cf0",
   "metadata": {},
   "outputs": [],
   "source": [
    "artpedia_train = AP_Dataset(ap_train_dataset, train_item2imgCapIdx, text_field, \\\n",
    "                            max_detections=50, lower=True, remove_punctuation=True, tokenize='spacy')"
   ]
  },
  {
   "cell_type": "code",
   "execution_count": 6,
   "id": "8f57364c-f518-435a-869c-5aecf6ee0bb5",
   "metadata": {},
   "outputs": [
    {
     "name": "stdout",
     "output_type": "stream",
     "text": [
      "-----0-----\n",
      "{'roi_feat': tensor([[[8.9316e-01, 0.0000e+00, 1.5636e-03,  ..., 0.0000e+00,\n",
      "          5.9531e+00, 9.1240e-01],\n",
      "         [1.9096e-03, 0.0000e+00, 2.8516e+00,  ..., 5.0467e-02,\n",
      "          5.3136e+00, 2.0535e+00],\n",
      "         [0.0000e+00, 0.0000e+00, 1.6620e+00,  ..., 2.9239e-02,\n",
      "          5.3941e+00, 2.2364e+00],\n",
      "         ...,\n",
      "         [0.0000e+00, 4.9739e-01, 5.4135e-02,  ..., 0.0000e+00,\n",
      "          0.0000e+00, 8.5115e-02],\n",
      "         [1.9324e+00, 0.0000e+00, 0.0000e+00,  ..., 0.0000e+00,\n",
      "          5.9282e+00, 1.3733e+00],\n",
      "         [0.0000e+00, 0.0000e+00, 0.0000e+00,  ..., 0.0000e+00,\n",
      "          0.0000e+00, 2.1885e-01]]]), 'cap': tensor([[   2,   28,   11, 1234,    0, 7212,   13,   26,  742,  215,  469, 1223,\n",
      "            0, 3914,   10,  543,    7, 4632,  110,    7, 3655, 6276,  551,  106,\n",
      "          239,    7,   71, 2967, 1825,    3]])}\n"
     ]
    }
   ],
   "source": [
    "train_data_loader = TorchDataLoader(artpedia_train, batch_size=1,\n",
    "                                  collate_fn=lambda x: text_progress(x, artpedia_train.text_field))\n",
    "\n",
    "for b in train_data_loader:\n",
    "    print(b)\n",
    "    break"
   ]
  },
  {
   "cell_type": "code",
   "execution_count": 5,
   "id": "d7b649d2-7d80-41be-a5b4-cf57e39fa450",
   "metadata": {},
   "outputs": [
    {
     "name": "stdout",
     "output_type": "stream",
     "text": [
      "-----3901-----\n",
      "-----38-----\n",
      "-----1438-----\n",
      "-----4933-----\n",
      "-----1718-----\n",
      "{'roi_feat': tensor([[[0.0000e+00, 4.3145e-02, 0.0000e+00,  ..., 2.9388e+00,\n",
      "          2.8484e-02, 1.3034e+00],\n",
      "         [9.3100e-03, 1.7313e-01, 0.0000e+00,  ..., 6.9744e-01,\n",
      "          2.5579e-01, 1.4116e-01],\n",
      "         [0.0000e+00, 5.3775e-01, 2.3395e-01,  ..., 6.3382e-02,\n",
      "          4.9877e+00, 2.4143e-02],\n",
      "         ...,\n",
      "         [1.4317e-01, 0.0000e+00, 0.0000e+00,  ..., 0.0000e+00,\n",
      "          1.9147e-02, 0.0000e+00],\n",
      "         [6.7224e-02, 1.8240e-01, 0.0000e+00,  ..., 5.2549e+00,\n",
      "          1.6558e-01, 1.1003e+00],\n",
      "         [2.3813e-02, 6.0978e-01, 1.7086e-02,  ..., 1.6776e-01,\n",
      "          0.0000e+00, 1.5174e-01]],\n",
      "\n",
      "        [[3.5952e-03, 4.6582e-03, 0.0000e+00,  ..., 3.8823e-01,\n",
      "          0.0000e+00, 1.3501e-01],\n",
      "         [0.0000e+00, 0.0000e+00, 7.4356e-01,  ..., 1.4323e+00,\n",
      "          8.1427e-03, 0.0000e+00],\n",
      "         [0.0000e+00, 1.3064e+00, 1.4540e-02,  ..., 1.1177e+01,\n",
      "          0.0000e+00, 9.5690e-03],\n",
      "         ...,\n",
      "         [7.1048e-03, 3.1918e-02, 0.0000e+00,  ..., 4.2871e-01,\n",
      "          0.0000e+00, 2.4234e-01],\n",
      "         [0.0000e+00, 5.1679e-01, 3.9360e-01,  ..., 3.2378e+00,\n",
      "          1.6276e-01, 1.5887e-02],\n",
      "         [2.9103e-03, 1.8935e-01, 3.0687e-01,  ..., 3.4400e+00,\n",
      "          1.3317e+00, 1.0132e-02]],\n",
      "\n",
      "        [[1.3015e+00, 5.5932e-01, 4.7108e-01,  ..., 2.0367e-01,\n",
      "          5.6982e+00, 0.0000e+00],\n",
      "         [0.0000e+00, 0.0000e+00, 2.9418e-01,  ..., 0.0000e+00,\n",
      "          9.8751e+00, 1.1009e-01],\n",
      "         [3.3316e+00, 6.5156e-01, 1.0320e+00,  ..., 0.0000e+00,\n",
      "          0.0000e+00, 2.2264e+00],\n",
      "         ...,\n",
      "         [2.0910e+00, 9.3561e-01, 9.3248e-01,  ..., 0.0000e+00,\n",
      "          4.6906e-01, 3.8675e+00],\n",
      "         [7.9437e-01, 0.0000e+00, 0.0000e+00,  ..., 0.0000e+00,\n",
      "          3.5509e+00, 8.3907e-03],\n",
      "         [1.3280e-01, 0.0000e+00, 0.0000e+00,  ..., 0.0000e+00,\n",
      "          1.2102e-02, 2.7512e-02]],\n",
      "\n",
      "        [[0.0000e+00, 1.2676e-02, 0.0000e+00,  ..., 6.6617e-03,\n",
      "          8.5429e+00, 0.0000e+00],\n",
      "         [0.0000e+00, 0.0000e+00, 0.0000e+00,  ..., 0.0000e+00,\n",
      "          2.9235e+00, 0.0000e+00],\n",
      "         [0.0000e+00, 5.6321e-01, 2.6483e-02,  ..., 2.9490e-02,\n",
      "          8.1662e+00, 1.2346e-01],\n",
      "         ...,\n",
      "         [3.2421e-02, 5.9358e-02, 1.0559e+00,  ..., 0.0000e+00,\n",
      "          6.2444e+00, 1.3604e-03],\n",
      "         [0.0000e+00, 0.0000e+00, 1.4353e-02,  ..., 0.0000e+00,\n",
      "          8.8921e-02, 0.0000e+00],\n",
      "         [0.0000e+00, 1.0898e-02, 2.8124e+00,  ..., 1.1641e-03,\n",
      "          2.7333e+00, 0.0000e+00]],\n",
      "\n",
      "        [[3.0545e-01, 0.0000e+00, 0.0000e+00,  ..., 0.0000e+00,\n",
      "          8.9669e-01, 0.0000e+00],\n",
      "         [6.9265e-02, 0.0000e+00, 0.0000e+00,  ..., 3.4270e+00,\n",
      "          1.3616e+01, 0.0000e+00],\n",
      "         [1.1602e-01, 0.0000e+00, 0.0000e+00,  ..., 3.0655e-01,\n",
      "          3.1228e+00, 9.5951e-02],\n",
      "         ...,\n",
      "         [4.1903e-02, 9.6679e-03, 0.0000e+00,  ..., 2.3701e-01,\n",
      "          2.0732e+00, 9.0459e-03],\n",
      "         [0.0000e+00, 7.1072e-02, 0.0000e+00,  ..., 0.0000e+00,\n",
      "          8.1195e-01, 0.0000e+00],\n",
      "         [9.0923e-03, 0.0000e+00, 0.0000e+00,  ..., 1.0770e-01,\n",
      "          8.7477e+00, 1.1783e-03]]]), 'cap': tensor([[   2,   90, 8254,    0,   11,  318,  320,    7, 8324, 9912,    0,   10,\n",
      "            0,    6,    7,  159,    0,  979,    4,    0, 5255,   13, 5244, 3025,\n",
      "            0,  416,  174,   10,  928,    3],\n",
      "        [   2,    7, 3933,  129, 2629,  550,    4, 4562,  273, 8151,  912,  273,\n",
      "         1925,   10, 3290,    0, 2404,    3,    1,    1,    1,    1,    1,    1,\n",
      "            1,    1,    1,    1,    1,    1],\n",
      "        [   2,   28,  550,    7, 3655, 6030,    7, 8827,  155, 1415,    0, 3584,\n",
      "          660, 3505, 1415, 6890, 3584,  639, 3505,   10,    7, 2238, 6021,    7,\n",
      "            0, 3584, 7472,   27,    4,    3],\n",
      "        [   2,   28,  550,    4, 8927,  391, 3362, 1888,    6,    0,  129, 1999,\n",
      "          988,    0,    0,    9,   90,  237, 1016,   13,    7,  660,    6,    7,\n",
      "         1199,    3,    1,    1,    1,    1],\n",
      "        [   2,  378,   99,   21,   13,    4,   25,    5,  743,   65,  952,    4,\n",
      "          379,   10,   31, 3238, 5238,    3,    1,    1,    1,    1,    1,    1,\n",
      "            1,    1,    1,    1,    1,    1]])}\n"
     ]
    }
   ],
   "source": [
    "train_data_loader_shuffle = TorchDataLoader(artpedia_train, batch_size=5, shuffle=True,\n",
    "                                  collate_fn=lambda x: text_progress(x, artpedia_train.text_field))\n",
    "\n",
    "for b in train_data_loader_shuffle:\n",
    "    print(b)\n",
    "    break"
   ]
  },
  {
   "cell_type": "code",
   "execution_count": 9,
   "id": "e7d1323a-8d10-41c8-ab18-9b47a447bdae",
   "metadata": {},
   "outputs": [
    {
     "name": "stdout",
     "output_type": "stream",
     "text": [
      "-----849-----\n"
     ]
    },
    {
     "data": {
      "text/plain": [
       "{'roi_feat': array([[2.0216746 , 0.        , 0.        , ..., 0.        , 1.3987926 ,\n",
       "         0.        ],\n",
       "        [0.30205244, 0.00586011, 0.02239603, ..., 0.        , 0.23666917,\n",
       "         0.9295689 ],\n",
       "        [1.1791258 , 0.5145521 , 2.6314425 , ..., 0.6239442 , 0.11476832,\n",
       "         1.7293396 ],\n",
       "        ...,\n",
       "        [0.8122813 , 3.6445942 , 0.        , ..., 0.        , 0.32125932,\n",
       "         0.05246392],\n",
       "        [0.        , 2.8413603 , 3.27753   , ..., 0.        , 0.01809708,\n",
       "         0.15031812],\n",
       "        [0.06550153, 0.        , 0.03633639, ..., 0.        , 0.85828817,\n",
       "         1.8566139 ]], dtype=float32),\n",
       " 'cap': ['at',\n",
       "  'the',\n",
       "  'top',\n",
       "  'is',\n",
       "  'a',\n",
       "  'rural',\n",
       "  'background',\n",
       "  'with',\n",
       "  'a',\n",
       "  'fortress',\n",
       "  'and',\n",
       "  'a',\n",
       "  'walled',\n",
       "  'city',\n",
       "  'full',\n",
       "  'of',\n",
       "  'guard',\n",
       "  'towers',\n",
       "  'and',\n",
       "  'bell',\n",
       "  'towers',\n",
       "  'along',\n",
       "  'with',\n",
       "  'other',\n",
       "  'buildings',\n",
       "  'based',\n",
       "  'on',\n",
       "  'famous',\n",
       "  'buildings',\n",
       "  'in',\n",
       "  'romagna',\n",
       "  'and',\n",
       "  'venetia',\n",
       "  'which',\n",
       "  'bellini',\n",
       "  'had',\n",
       "  'seen',\n",
       "  'on',\n",
       "  'his',\n",
       "  'journey',\n",
       "  'to',\n",
       "  'romagna',\n",
       "  'and',\n",
       "  'the',\n",
       "  'marche']}"
      ]
     },
     "execution_count": 9,
     "metadata": {},
     "output_type": "execute_result"
    }
   ],
   "source": [
    "artpedia_train.__getitem__(849)"
   ]
  },
  {
   "cell_type": "code",
   "execution_count": null,
   "id": "24d45b38-c696-49c9-94e5-23be33c717b4",
   "metadata": {},
   "outputs": [],
   "source": []
  }
 ],
 "metadata": {
  "kernelspec": {
   "display_name": "m2release",
   "language": "python",
   "name": "m2release"
  },
  "language_info": {
   "codemirror_mode": {
    "name": "ipython",
    "version": 3
   },
   "file_extension": ".py",
   "mimetype": "text/x-python",
   "name": "python",
   "nbconvert_exporter": "python",
   "pygments_lexer": "ipython3",
   "version": "3.6.9"
  }
 },
 "nbformat": 4,
 "nbformat_minor": 5
}
