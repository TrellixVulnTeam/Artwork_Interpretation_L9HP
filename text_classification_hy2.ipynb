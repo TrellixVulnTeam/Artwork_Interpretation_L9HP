{
 "cells": [
  {
   "cell_type": "code",
   "execution_count": 35,
   "id": "963802a8-afa2-495c-91eb-9c3a16cfcaff",
   "metadata": {},
   "outputs": [],
   "source": [
    "from transformers import AutoConfig,AutoModel,AutoTokenizer,AdamW,get_linear_schedule_with_warmup,logging\n",
    "import torch\n",
    "import torch.nn as nn\n",
    "import torch.nn.functional as F\n",
    "from torch.utils.data import TensorDataset,SequentialSampler,RandomSampler,DataLoader\n",
    "\n",
    "import pandas as pd\n",
    "\n",
    "# 导入transformers\n",
    "import transformers\n",
    "from transformers import BertModel, BertTokenizer, AdamW, get_linear_schedule_with_warmup\n",
    "\n",
    "\n",
    "# 导入torch\n",
    "import torch\n",
    "from torch import nn, optim\n",
    "from torch.utils.data import Dataset, DataLoader\n",
    "import torch.nn.functional as F\n",
    "\n",
    "\n",
    "# 常用包\n",
    "import re\n",
    "import numpy as np\n",
    "import pandas as pd\n",
    "import seaborn as sns\n",
    "from pylab import rcParams\n",
    "import matplotlib.pyplot as plt\n",
    "from matplotlib import rc\n",
    "from sklearn.model_selection import train_test_split\n",
    "from sklearn.metrics import confusion_matrix, classification_report\n",
    "from collections import defaultdict\n",
    "from textwrap import wrap\n",
    "from tqdm import tqdm\n",
    "import json\n",
    "import random\n",
    "import time\n",
    "import warnings\n",
    "warnings.filterwarnings(\"ignore\")\n",
    "\n",
    "%matplotlib inline\n",
    "%config InlineBackend.figure_format='retina' # 主题"
   ]
  },
  {
   "cell_type": "code",
   "execution_count": 36,
   "id": "bce4292b-4df1-4b54-b0b4-2b2f960d7f09",
   "metadata": {},
   "outputs": [
    {
     "data": {
      "text/plain": [
       "True"
      ]
     },
     "execution_count": 36,
     "metadata": {},
     "output_type": "execute_result"
    }
   ],
   "source": [
    "torch.cuda.is_available()"
   ]
  },
  {
   "cell_type": "code",
   "execution_count": 37,
   "id": "2229156a-e900-4d8e-b9c9-484da90c262e",
   "metadata": {},
   "outputs": [
    {
     "name": "stdout",
     "output_type": "stream",
     "text": [
      "Fri Oct 15 21:23:35 2021       \n",
      "+-----------------------------------------------------------------------------+\n",
      "| NVIDIA-SMI 470.57.02    Driver Version: 470.57.02    CUDA Version: 11.4     |\n",
      "|-------------------------------+----------------------+----------------------+\n",
      "| GPU  Name        Persistence-M| Bus-Id        Disp.A | Volatile Uncorr. ECC |\n",
      "| Fan  Temp  Perf  Pwr:Usage/Cap|         Memory-Usage | GPU-Util  Compute M. |\n",
      "|                               |                      |               MIG M. |\n",
      "|===============================+======================+======================|\n",
      "|   0  NVIDIA GeForce ...  On   | 00000000:41:00.0 Off |                  N/A |\n",
      "| 30%   28C    P8    17W / 350W |   7071MiB / 24268MiB |      0%      Default |\n",
      "|                               |                      |                  N/A |\n",
      "+-------------------------------+----------------------+----------------------+\n",
      "                                                                               \n",
      "+-----------------------------------------------------------------------------+\n",
      "| Processes:                                                                  |\n",
      "|  GPU   GI   CI        PID   Type   Process name                  GPU Memory |\n",
      "|        ID   ID                                                   Usage      |\n",
      "|=============================================================================|\n",
      "+-----------------------------------------------------------------------------+\n"
     ]
    }
   ],
   "source": [
    "!nvidia-smi"
   ]
  },
  {
   "cell_type": "code",
   "execution_count": 38,
   "id": "0565ccf0-82d4-45b1-9562-767440fbf809",
   "metadata": {},
   "outputs": [],
   "source": [
    "# initialize seeds\n",
    "RANDOM_SEED = 42\n",
    "def set_random_seed(seed = 10,deterministic=False,benchmark=False):\n",
    "    random.seed(seed)\n",
    "    np.random.seed(seed)\n",
    "    torch.manual_seed(seed)\n",
    "    torch.cuda.manual_seed_all(seed)\n",
    "    if deterministic:\n",
    "        torch.backends.cudnn.deterministic = True\n",
    "    if benchmark:\n",
    "        torch.backends.cudnn.benchmark = True\n",
    "\n",
    "set_random_seed(RANDOM_SEED)"
   ]
  },
  {
   "cell_type": "code",
   "execution_count": 39,
   "id": "c032693a-bc6e-4b2d-9891-1cfa2d2bb842",
   "metadata": {},
   "outputs": [],
   "source": [
    "file_path = \"artpedia.json\"\n",
    "with open(file_path, 'r') as f:\n",
    "    artpedia = json.load(f)"
   ]
  },
  {
   "cell_type": "code",
   "execution_count": 40,
   "id": "895d7778-a206-4e63-909b-53ba022fdcf6",
   "metadata": {},
   "outputs": [
    {
     "data": {
      "text/html": [
       "<div>\n",
       "<style scoped>\n",
       "    .dataframe tbody tr th:only-of-type {\n",
       "        vertical-align: middle;\n",
       "    }\n",
       "\n",
       "    .dataframe tbody tr th {\n",
       "        vertical-align: top;\n",
       "    }\n",
       "\n",
       "    .dataframe thead th {\n",
       "        text-align: right;\n",
       "    }\n",
       "</style>\n",
       "<table border=\"1\" class=\"dataframe\">\n",
       "  <thead>\n",
       "    <tr style=\"text-align: right;\">\n",
       "      <th></th>\n",
       "      <th>sentence</th>\n",
       "      <th>category</th>\n",
       "    </tr>\n",
       "  </thead>\n",
       "  <tbody>\n",
       "    <tr>\n",
       "      <th>0</th>\n",
       "      <td>It is also stylistically earlier to that work,...</td>\n",
       "      <td>visual</td>\n",
       "    </tr>\n",
       "    <tr>\n",
       "      <th>1</th>\n",
       "      <td>The throne is similar to the Maestà painted by...</td>\n",
       "      <td>visual</td>\n",
       "    </tr>\n",
       "    <tr>\n",
       "      <th>2</th>\n",
       "      <td>The painting depicts the Virgin and Child enth...</td>\n",
       "      <td>visual</td>\n",
       "    </tr>\n",
       "    <tr>\n",
       "      <th>19037</th>\n",
       "      <td>It is kept at The Broad in Los Angeles.</td>\n",
       "      <td>contextual</td>\n",
       "    </tr>\n",
       "    <tr>\n",
       "      <th>19038</th>\n",
       "      <td>The painting was made using oil on canvas and ...</td>\n",
       "      <td>contextual</td>\n",
       "    </tr>\n",
       "  </tbody>\n",
       "</table>\n",
       "</div>"
      ],
      "text/plain": [
       "                                                sentence    category\n",
       "0      It is also stylistically earlier to that work,...      visual\n",
       "1      The throne is similar to the Maestà painted by...      visual\n",
       "2      The painting depicts the Virgin and Child enth...      visual\n",
       "19037            It is kept at The Broad in Los Angeles.  contextual\n",
       "19038  The painting was made using oil on canvas and ...  contextual"
      ]
     },
     "execution_count": 40,
     "metadata": {},
     "output_type": "execute_result"
    }
   ],
   "source": [
    "visual_sents = []\n",
    "context_sents = []\n",
    "\n",
    "for ind in artpedia:\n",
    "    visuals = artpedia[ind]['visual_sentences']\n",
    "    contexts = artpedia[ind]['contextual_sentences']\n",
    "    visual_sents.extend(visuals)\n",
    "    context_sents.extend(contexts)\n",
    "\n",
    "visual_df = pd.DataFrame({\"sentence\": visual_sents, \"category\": \"visual\"})\n",
    "context_df = pd.DataFrame({\"sentence\": context_sents, \"category\": \"contextual\"})\n",
    "\n",
    "des_df = pd.concat((visual_df, context_df), axis=0)\n",
    "pd.concat((des_df.head(3), des_df.tail(2)))"
   ]
  },
  {
   "cell_type": "code",
   "execution_count": 41,
   "id": "2fe86a0e-c8bf-4a6a-9146-1230c538024a",
   "metadata": {},
   "outputs": [],
   "source": [
    "des_df = pd.concat([des_df.iloc[:2000], des_df.iloc[-2000:]])\n",
    "# des_df"
   ]
  },
  {
   "cell_type": "code",
   "execution_count": 42,
   "id": "c0694627-18dd-43b6-bc90-7e081de531af",
   "metadata": {},
   "outputs": [
    {
     "data": {
      "text/plain": [
       "contextual    2000\n",
       "visual        2000\n",
       "Name: category, dtype: int64"
      ]
     },
     "execution_count": 42,
     "metadata": {},
     "output_type": "execute_result"
    }
   ],
   "source": [
    "des_df[\"category\"].value_counts()"
   ]
  },
  {
   "cell_type": "code",
   "execution_count": 43,
   "id": "5331d149-46a7-4dfc-a810-554b7433016e",
   "metadata": {},
   "outputs": [
    {
     "data": {
      "text/html": [
       "<div>\n",
       "<style scoped>\n",
       "    .dataframe tbody tr th:only-of-type {\n",
       "        vertical-align: middle;\n",
       "    }\n",
       "\n",
       "    .dataframe tbody tr th {\n",
       "        vertical-align: top;\n",
       "    }\n",
       "\n",
       "    .dataframe thead th {\n",
       "        text-align: right;\n",
       "    }\n",
       "</style>\n",
       "<table border=\"1\" class=\"dataframe\">\n",
       "  <thead>\n",
       "    <tr style=\"text-align: right;\">\n",
       "      <th></th>\n",
       "      <th>sentence</th>\n",
       "      <th>category</th>\n",
       "      <th>label</th>\n",
       "    </tr>\n",
       "  </thead>\n",
       "  <tbody>\n",
       "    <tr>\n",
       "      <th>0</th>\n",
       "      <td>It is also stylistically earlier to that work,...</td>\n",
       "      <td>visual</td>\n",
       "      <td>0</td>\n",
       "    </tr>\n",
       "    <tr>\n",
       "      <th>1</th>\n",
       "      <td>The throne is similar to the Maestà painted by...</td>\n",
       "      <td>visual</td>\n",
       "      <td>0</td>\n",
       "    </tr>\n",
       "    <tr>\n",
       "      <th>2</th>\n",
       "      <td>The painting depicts the Virgin and Child enth...</td>\n",
       "      <td>visual</td>\n",
       "      <td>0</td>\n",
       "    </tr>\n",
       "    <tr>\n",
       "      <th>19037</th>\n",
       "      <td>It is kept at The Broad in Los Angeles.</td>\n",
       "      <td>contextual</td>\n",
       "      <td>1</td>\n",
       "    </tr>\n",
       "    <tr>\n",
       "      <th>19038</th>\n",
       "      <td>The painting was made using oil on canvas and ...</td>\n",
       "      <td>contextual</td>\n",
       "      <td>1</td>\n",
       "    </tr>\n",
       "  </tbody>\n",
       "</table>\n",
       "</div>"
      ],
      "text/plain": [
       "                                                sentence    category  label\n",
       "0      It is also stylistically earlier to that work,...      visual      0\n",
       "1      The throne is similar to the Maestà painted by...      visual      0\n",
       "2      The painting depicts the Virgin and Child enth...      visual      0\n",
       "19037            It is kept at The Broad in Los Angeles.  contextual      1\n",
       "19038  The painting was made using oil on canvas and ...  contextual      1"
      ]
     },
     "execution_count": 43,
     "metadata": {},
     "output_type": "execute_result"
    }
   ],
   "source": [
    "id2label = dict(enumerate(des_df.category.unique()))\n",
    "label2id = {v: k for k, v in id2label.items()}\n",
    "\n",
    "des_df['label'] = des_df['category'].map(label2id)\n",
    "pd.concat((des_df.head(3), des_df.tail(2)))"
   ]
  },
  {
   "cell_type": "code",
   "execution_count": 44,
   "id": "9e655f4b-aab4-4560-85ad-77202d0268a8",
   "metadata": {},
   "outputs": [
    {
     "name": "stdout",
     "output_type": "stream",
     "text": [
      "7.370779991149902\n"
     ]
    },
    {
     "data": {
      "text/plain": [
       "PreTrainedTokenizer(name_or_path='bert-base-uncased', vocab_size=30522, model_max_len=512, is_fast=False, padding_side='right', special_tokens={'unk_token': '[UNK]', 'sep_token': '[SEP]', 'pad_token': '[PAD]', 'cls_token': '[CLS]', 'mask_token': '[MASK]'})"
      ]
     },
     "execution_count": 44,
     "metadata": {},
     "output_type": "execute_result"
    }
   ],
   "source": [
    "start = time.time()\n",
    "\n",
    "# tokenizer\n",
    "PRE_TRAINED_MODEL_NAME = \"bert-base-uncased\"\n",
    "tokenizer = BertTokenizer.from_pretrained(PRE_TRAINED_MODEL_NAME)\n",
    "\n",
    "end = time.time()\n",
    "print((end-start))\n",
    "\n",
    "tokenizer"
   ]
  },
  {
   "cell_type": "code",
   "execution_count": 45,
   "id": "2cca4ab2-55e9-4b94-ba43-35dfa165a01c",
   "metadata": {},
   "outputs": [
    {
     "data": {
      "text/plain": [
       "((3600, 3), (200, 3), (200, 3))"
      ]
     },
     "execution_count": 45,
     "metadata": {},
     "output_type": "execute_result"
    }
   ],
   "source": [
    "train, test = train_test_split(des_df, test_size=0.1, random_state=RANDOM_SEED)\n",
    "val, test = train_test_split(test, test_size=0.5, random_state=RANDOM_SEED)\n",
    "train.shape, val.shape, test.shape"
   ]
  },
  {
   "cell_type": "code",
   "execution_count": 46,
   "id": "640bcef2-5aa7-4445-86f4-630f6174b85e",
   "metadata": {},
   "outputs": [],
   "source": [
    "class_names = train.category.unique()"
   ]
  },
  {
   "cell_type": "code",
   "execution_count": 47,
   "id": "b356936f-7c11-44d5-a3f3-ce98214b3add",
   "metadata": {},
   "outputs": [],
   "source": [
    "# define the dataset\n",
    "\n",
    "class DescriptionDataset(Dataset):\n",
    "    def __init__(self, sents, labels, tokenizer, max_len):\n",
    "        self.sents = sents\n",
    "        self.labels=labels\n",
    "        self.tokenizer=tokenizer\n",
    "        self.max_len=max_len\n",
    "        \n",
    "    def __len__(self):\n",
    "        return len(self.sents)\n",
    "        \n",
    "    def __getitem__(self, item):\n",
    "        sent = self.sents[item]\n",
    "        label = self.labels[item]\n",
    "        encoding = self.tokenizer.encode_plus(\n",
    "            sent,\n",
    "            add_special_tokens = True,\n",
    "            max_length=self.max_len,\n",
    "            return_token_type_ids = True,\n",
    "            pad_to_max_length = True,\n",
    "            return_attention_mask = True,\n",
    "            return_tensors = 'pt',\n",
    "        )\n",
    "        \n",
    "        return {\n",
    "            'sents': sent,\n",
    "            'input_ids': encoding['input_ids'].flatten(),\n",
    "            'attention_mask': encoding['attention_mask'].flatten(),\n",
    "            'labels': torch.tensor(label, dtype=torch.long),\n",
    "        }"
   ]
  },
  {
   "cell_type": "code",
   "execution_count": 48,
   "id": "02674632-11d3-4008-81d0-3149d03b349b",
   "metadata": {},
   "outputs": [],
   "source": [
    "# hyperparameters\n",
    "MAX_LEN = 64\n",
    "BATCH_SIZE = 4\n",
    "device = device = torch.device(\"cuda:0\" if torch.cuda.is_available() else \"cpu\")"
   ]
  },
  {
   "cell_type": "code",
   "execution_count": 49,
   "id": "611130cf-d6d6-4dc5-815f-f1ccae704769",
   "metadata": {},
   "outputs": [],
   "source": [
    "# create dataset loader\n",
    "\n",
    "def create_data_loader(df, tokenizer, max_len, batch_size):\n",
    "    ds = DescriptionDataset(\n",
    "        sents = df[\"sentence\"].values,\n",
    "        labels = df[\"label\"].values,\n",
    "        tokenizer = tokenizer,\n",
    "        max_len = max_len,\n",
    "    )\n",
    "    \n",
    "    return DataLoader(ds, batch_size)\n",
    "\n",
    "train_data_loader = create_data_loader(train, tokenizer, MAX_LEN, BATCH_SIZE)\n",
    "test_data_loader = create_data_loader(test, tokenizer, MAX_LEN, BATCH_SIZE)\n",
    "valid_data_loader = create_data_loader(val, tokenizer, MAX_LEN, BATCH_SIZE)"
   ]
  },
  {
   "cell_type": "code",
   "execution_count": 50,
   "id": "c975e77f-993d-45e1-89db-d467fde3a1d1",
   "metadata": {},
   "outputs": [],
   "source": [
    "# # define the classifier\n",
    "# class DescriptionClassifier(nn.Module):\n",
    "#     def __init__(self):\n",
    "#         super(DescriptionClassifier, self).__init__()\n",
    "#         self.bert = BertModel.from_pretrained(PRE_TRAINED_MODEL_NAME)\n",
    "#         self.drop = nn.Dropout(p=0.3)\n",
    "#         self.out = nn.Linear(self.bert.config.hidden_size, 2)\n",
    "#         self.softmax = nn.Softmax()\n",
    "    \n",
    "#     def forward(self, input_ids, attention_mask):\n",
    "#         _, pooled_output = self.bert(\n",
    "#             input_ids = input_ids, \n",
    "#             attention_mask = attention_mask,\n",
    "#             return_dict = False,\n",
    "#         )\n",
    "#         output = self.drop(pooled_output)\n",
    "#         return self.out(output)"
   ]
  },
  {
   "cell_type": "code",
   "execution_count": 51,
   "id": "8d944946-ca3a-42bb-88fd-66347817304d",
   "metadata": {},
   "outputs": [],
   "source": [
    "# start = time.time()\n",
    "\n",
    "# model = DescriptionClassifier()\n",
    "# model = model.to(device)\n",
    "\n",
    "# end = time.time()\n",
    "# end - start"
   ]
  },
  {
   "cell_type": "code",
   "execution_count": 52,
   "id": "fa7491a6-c707-4d2c-ad68-9f7a3b0128c1",
   "metadata": {},
   "outputs": [],
   "source": [
    "class LastFourModel(nn.Module):\n",
    "    def __init__(self):\n",
    "        super().__init__()\n",
    "        config = AutoConfig.from_pretrained(PRE_TRAINED_MODEL_NAME)\n",
    "        config.update({'output_hidden_states':True})\n",
    "        self.bert = AutoModel.from_pretrained(PRE_TRAINED_MODEL_NAME, config=config)\n",
    "        self.linear = nn.Linear(4*self.bert.config.hidden_size, 2)\n",
    "        \n",
    "    def forward(self, input_ids, attention_mask):\n",
    "        \n",
    "        outputs = self.bert(input_ids, attention_mask)\n",
    "        all_hidden_states = torch.stack(outputs[2])\n",
    "        concatenate_pooling = torch.cat(\n",
    "            (all_hidden_states[-1], all_hidden_states[-2], all_hidden_states[-3], all_hidden_states[-4]), -1\n",
    "        )\n",
    "        concatenate_pooling = concatenate_pooling[:,0]\n",
    "        output = self.linear(concatenate_pooling)\n",
    "        \n",
    "        return output"
   ]
  },
  {
   "cell_type": "code",
   "execution_count": 53,
   "id": "633ba0ba-cb37-4f2e-b407-3fa13054f8d8",
   "metadata": {},
   "outputs": [
    {
     "name": "stderr",
     "output_type": "stream",
     "text": [
      "Some weights of the model checkpoint at bert-base-uncased were not used when initializing BertModel: ['cls.predictions.decoder.weight', 'cls.seq_relationship.bias', 'cls.predictions.transform.dense.bias', 'cls.predictions.transform.LayerNorm.bias', 'cls.seq_relationship.weight', 'cls.predictions.transform.LayerNorm.weight', 'cls.predictions.bias', 'cls.predictions.transform.dense.weight']\n",
      "- This IS expected if you are initializing BertModel from the checkpoint of a model trained on another task or with another architecture (e.g. initializing a BertForSequenceClassification model from a BertForPreTraining model).\n",
      "- This IS NOT expected if you are initializing BertModel from the checkpoint of a model that you expect to be exactly identical (initializing a BertForSequenceClassification model from a BertForSequenceClassification model).\n"
     ]
    },
    {
     "data": {
      "text/plain": [
       "3.3629024028778076"
      ]
     },
     "execution_count": 53,
     "metadata": {},
     "output_type": "execute_result"
    }
   ],
   "source": [
    "start = time.time()\n",
    "\n",
    "model = LastFourModel()\n",
    "model = model1.to(device)\n",
    "\n",
    "end = time.time()\n",
    "end - start"
   ]
  },
  {
   "cell_type": "code",
   "execution_count": 62,
   "id": "a6734d12-b7bd-4720-a27b-2bde3cc9d7fe",
   "metadata": {},
   "outputs": [],
   "source": [
    "# [name[0] for name in model.named_parameters()]"
   ]
  },
  {
   "cell_type": "code",
   "execution_count": 56,
   "id": "acf5efe6-edc7-4b3d-bbcf-97d1a80c2eb0",
   "metadata": {},
   "outputs": [],
   "source": [
    "def get_parameters(model, model_init_lr, multiplier, classifier_lr):\n",
    "    parameters = []\n",
    "    lr = model_init_lr\n",
    "    for layer in range(12,-1,-1):\n",
    "        layer_params = {\n",
    "            'params': [p for n,p in model.named_parameters() if f'encoder.layer.{layer}.' in n],\n",
    "            'lr': lr\n",
    "        }\n",
    "        parameters.append(layer_params)\n",
    "        lr *= multiplier\n",
    "    classifier_params = {\n",
    "        'params': [p for n,p in model.named_parameters() if 'layer_norm' in n or 'linear' in n \n",
    "                   or 'pooling' in n],\n",
    "        'lr': classifier_lr\n",
    "    }\n",
    "    parameters.append(classifier_params)\n",
    "    return parameters\n",
    "parameters=get_parameters(model,2e-5,0.95, 1e-4)\n",
    "optimizer=AdamW(parameters)"
   ]
  },
  {
   "cell_type": "code",
   "execution_count": 57,
   "id": "2bc76c69-b71e-4906-b376-619db2665dda",
   "metadata": {},
   "outputs": [],
   "source": [
    "# [name[0] for name in model.named_parameters()]"
   ]
  },
  {
   "cell_type": "code",
   "execution_count": 58,
   "id": "b5d1b223-c936-4323-9426-4d04cff95150",
   "metadata": {},
   "outputs": [],
   "source": [
    "EPOCHS = 2 \n",
    "\n",
    "# optimizer = AdamW(model.parameters(), lr=2e-5, correct_bias=False)\n",
    "total_steps = len(train_data_loader) * EPOCHS\n",
    "\n",
    "scheduler = get_linear_schedule_with_warmup(\n",
    "  optimizer,\n",
    "  num_warmup_steps=0,\n",
    "  num_training_steps=total_steps\n",
    ")\n",
    "\n",
    "loss_fn = nn.CrossEntropyLoss().to(device)\n",
    "# loss_fn = nn.BCELoss().to(device)"
   ]
  },
  {
   "cell_type": "code",
   "execution_count": 59,
   "id": "20628c64-6ffa-40ec-b808-e8ca4b1a370e",
   "metadata": {},
   "outputs": [],
   "source": [
    "# train the model\n",
    "def train_epoch(\n",
    "  model, \n",
    "  data_loader, \n",
    "  loss_fn, \n",
    "  optimizer, \n",
    "  device, \n",
    "  scheduler, \n",
    "  n_examples\n",
    "):\n",
    "    model = model.train()\n",
    "    losses = []\n",
    "    correct_predictions = 0\n",
    "    for d in tqdm(data_loader):\n",
    "        input_ids = d[\"input_ids\"].to(device)\n",
    "        attention_mask = d[\"attention_mask\"].to(device)\n",
    "        targets = d[\"labels\"].to(device)\n",
    "        outputs = model(\n",
    "            input_ids=input_ids,\n",
    "            attention_mask=attention_mask\n",
    "        )\n",
    "        _, preds = torch.max(outputs, dim=1)\n",
    "        loss = loss_fn(outputs, targets)\n",
    "        correct_predictions += torch.sum(preds == targets)\n",
    "        losses.append(loss.item())\n",
    "        loss.backward()\n",
    "        nn.utils.clip_grad_norm_(model.parameters(), max_norm=1.0)\n",
    "        optimizer.step()\n",
    "        scheduler.step()\n",
    "        optimizer.zero_grad()\n",
    "    return correct_predictions.double() / n_examples, np.mean(losses)"
   ]
  },
  {
   "cell_type": "code",
   "execution_count": 60,
   "id": "bc8146cc-a9d6-44b6-b4fd-291d3d87caef",
   "metadata": {},
   "outputs": [],
   "source": [
    "# evaluate the model \n",
    "def eval_model(model, data_loader, loss_fn, device, n_examples):\n",
    "    model = model.eval() \n",
    "\n",
    "    losses = []\n",
    "    correct_predictions = 0\n",
    "\n",
    "    with torch.no_grad():\n",
    "        for d in data_loader:\n",
    "            input_ids = d[\"input_ids\"].to(device)\n",
    "            attention_mask = d[\"attention_mask\"].to(device)\n",
    "            targets = d[\"labels\"].to(device)\n",
    "\n",
    "            outputs = model(\n",
    "                input_ids=input_ids,\n",
    "                attention_mask=attention_mask\n",
    "            )\n",
    "            _, preds = torch.max(outputs, dim=1)\n",
    "\n",
    "            loss = loss_fn(outputs, targets)\n",
    "\n",
    "            correct_predictions += torch.sum(preds == targets)\n",
    "            losses.append(loss.item())\n",
    "\n",
    "    return correct_predictions.double() / n_examples, np.mean(losses)\n"
   ]
  },
  {
   "cell_type": "code",
   "execution_count": 61,
   "id": "6dccb16f-e83c-45d0-8af4-bbc20d2b60a1",
   "metadata": {},
   "outputs": [
    {
     "name": "stdout",
     "output_type": "stream",
     "text": [
      "Epoch 1/2\n",
      "----------\n"
     ]
    },
    {
     "name": "stderr",
     "output_type": "stream",
     "text": [
      "  0%|          | 0/900 [00:00<?, ?it/s]Truncation was not explicitly activated but `max_length` is provided a specific value, please use `truncation=True` to explicitly truncate examples to max length. Defaulting to 'longest_first' truncation strategy. If you encode pairs of sequences (GLUE-style) with the tokenizer you can select this strategy more precisely by providing a specific strategy to `truncation`.\n",
      "100%|██████████| 900/900 [00:55<00:00, 16.36it/s]\n"
     ]
    },
    {
     "name": "stdout",
     "output_type": "stream",
     "text": [
      "Train loss 0.022918197770699054 accuracy 0.9955555555555555\n",
      "Val   loss 0.3376672086121903 accuracy 0.9500000000000001\n",
      "\n",
      "Epoch 2/2\n",
      "----------\n"
     ]
    },
    {
     "name": "stderr",
     "output_type": "stream",
     "text": [
      "100%|██████████| 900/900 [00:54<00:00, 16.37it/s]\n"
     ]
    },
    {
     "name": "stdout",
     "output_type": "stream",
     "text": [
      "Train loss 0.0016529690906613187 accuracy 0.9994444444444445\n",
      "Val   loss 0.35391813564352403 accuracy 0.965\n",
      "\n"
     ]
    }
   ],
   "source": [
    "history = defaultdict(list) # 记录10轮loss和acc\n",
    "best_accuracy = 0\n",
    "\n",
    "for epoch in range(EPOCHS):\n",
    "\n",
    "    print(f'Epoch {epoch + 1}/{EPOCHS}')\n",
    "    print('-' * 10)\n",
    "\n",
    "    train_acc, train_loss = train_epoch(\n",
    "        model,\n",
    "        train_data_loader,\n",
    "        loss_fn,\n",
    "        optimizer,\n",
    "        device,\n",
    "        scheduler,\n",
    "        len(train)\n",
    "    )\n",
    "\n",
    "    print(f'Train loss {train_loss} accuracy {train_acc}')\n",
    "\n",
    "    val_acc, val_loss = eval_model(\n",
    "        model,\n",
    "        valid_data_loader,\n",
    "        loss_fn,\n",
    "        device,\n",
    "        len(val)\n",
    "    )\n",
    "\n",
    "    print(f'Val   loss {val_loss} accuracy {val_acc}')\n",
    "    print()\n",
    "\n",
    "    history['train_acc'].append(train_acc)\n",
    "    history['train_loss'].append(train_loss)\n",
    "    history['val_acc'].append(val_acc)\n",
    "    history['val_loss'].append(val_loss)\n",
    "\n",
    "    if val_acc > best_accuracy:\n",
    "        torch.save(model.state_dict(), 'best_model_state_lastfour.bin')\n",
    "        best_accuracy = val_acc\n"
   ]
  },
  {
   "cell_type": "code",
   "execution_count": 34,
   "id": "3834c880-74a4-439e-87f0-2b57e82585b2",
   "metadata": {},
   "outputs": [],
   "source": [
    "for k in history:\n",
    "    history[k] = torch.tensor(history[k], device=\"cpu\")"
   ]
  },
  {
   "cell_type": "code",
   "execution_count": 35,
   "id": "49956c87-da85-4301-b37a-0c3224420987",
   "metadata": {},
   "outputs": [
    {
     "data": {
      "image/png": "[encoded data removed]",
      "text/plain": [
       "<Figure size 432x288 with 1 Axes>"
      ]
     },
     "metadata": {
      "image/png": {
       "height": 277,
       "width": 392
      },
      "needs_background": "light"
     },
     "output_type": "display_data"
    }
   ],
   "source": [
    "plt.plot(history['train_acc'], label='train accuracy')\n",
    "plt.plot(history['val_acc'], label='validation accuracy')\n",
    "\n",
    "plt.title('Training history')\n",
    "plt.ylabel('Accuracy')\n",
    "plt.xlabel('Epoch')\n",
    "plt.legend()\n",
    "plt.ylim([0, 2]);"
   ]
  },
  {
   "cell_type": "code",
   "execution_count": 36,
   "id": "0ef7f86c-04db-44a5-b49f-d99426c6ed84",
   "metadata": {},
   "outputs": [
    {
     "data": {
      "text/plain": [
       "0.8966666666666666"
      ]
     },
     "execution_count": 36,
     "metadata": {},
     "output_type": "execute_result"
    }
   ],
   "source": [
    "test_acc, _ = eval_model(\n",
    "  model,\n",
    "  test_data_loader,\n",
    "  loss_fn,\n",
    "  device,\n",
    "  len(test)\n",
    ")\n",
    "\n",
    "test_acc.item()"
   ]
  },
  {
   "cell_type": "code",
   "execution_count": 37,
   "id": "97cdff99-a2e7-4091-b1c8-7964e5d0cea1",
   "metadata": {},
   "outputs": [],
   "source": [
    "def get_predictions(model, data_loader):\n",
    "    model = model.eval()\n",
    "\n",
    "    texts = []\n",
    "    predictions = []\n",
    "    prediction_probs = []\n",
    "    real_values = []\n",
    "\n",
    "    with torch.no_grad():\n",
    "        for d in data_loader:\n",
    "            texts = d[\"sents\"]\n",
    "            input_ids = d[\"input_ids\"].to(device)\n",
    "            attention_mask = d[\"attention_mask\"].to(device)\n",
    "            targets = d[\"labels\"].to(device)\n",
    "\n",
    "            outputs = model(\n",
    "                input_ids=input_ids,\n",
    "                attention_mask=attention_mask\n",
    "            )\n",
    "            _, preds = torch.max(outputs, dim=1)\n",
    "\n",
    "            probs = F.softmax(outputs, dim=1)\n",
    "\n",
    "            texts.extend(texts)\n",
    "            predictions.extend(preds)\n",
    "            prediction_probs.extend(probs)\n",
    "            real_values.extend(targets)\n",
    "\n",
    "    predictions = torch.stack(predictions).cpu()\n",
    "    prediction_probs = torch.stack(prediction_probs).cpu()\n",
    "    real_values = torch.stack(real_values).cpu()\n",
    "    return texts, predictions, prediction_probs, real_values\n"
   ]
  },
  {
   "cell_type": "code",
   "execution_count": 38,
   "id": "806e2439-ed7b-4dad-aaf1-76bfa630b8c0",
   "metadata": {},
   "outputs": [],
   "source": [
    "y_texts, y_pred, y_pred_probs, y_test = get_predictions(\n",
    "  model,\n",
    "  test_data_loader\n",
    ")"
   ]
  },
  {
   "cell_type": "code",
   "execution_count": 39,
   "id": "9cdcc36e-9b6a-40ef-97fd-646eddfebd9e",
   "metadata": {},
   "outputs": [
    {
     "name": "stdout",
     "output_type": "stream",
     "text": [
      "              precision    recall  f1-score   support\n",
      "\n",
      "  contextual       0.88      0.92      0.90       445\n",
      "      visual       0.92      0.87      0.90       455\n",
      "\n",
      "    accuracy                           0.90       900\n",
      "   macro avg       0.90      0.90      0.90       900\n",
      "weighted avg       0.90      0.90      0.90       900\n",
      "\n"
     ]
    }
   ],
   "source": [
    "print(classification_report(y_test, y_pred, target_names=[str(label) for label in class_names]))"
   ]
  },
  {
   "cell_type": "code",
   "execution_count": null,
   "id": "0d967972-ad1d-4da8-adb0-a7e5e9ce0b7f",
   "metadata": {},
   "outputs": [],
   "source": []
  },
  {
   "cell_type": "code",
   "execution_count": 57,
   "id": "64fd7f64-c710-4d0a-a0d1-f86a574fd5d8",
   "metadata": {
    "tags": []
   },
   "outputs": [
    {
     "name": "stderr",
     "output_type": "stream",
     "text": [
      "Some weights of the model checkpoint at bert-base-uncased were not used when initializing BertModel: ['cls.predictions.bias', 'cls.predictions.transform.LayerNorm.weight', 'cls.predictions.transform.LayerNorm.bias', 'cls.predictions.transform.dense.bias', 'cls.seq_relationship.weight', 'cls.predictions.decoder.weight', 'cls.predictions.transform.dense.weight', 'cls.seq_relationship.bias']\n",
      "- This IS expected if you are initializing BertModel from the checkpoint of a model trained on another task or with another architecture (e.g. initializing a BertForSequenceClassification model from a BertForPreTraining model).\n",
      "- This IS NOT expected if you are initializing BertModel from the checkpoint of a model that you expect to be exactly identical (initializing a BertForSequenceClassification model from a BertForSequenceClassification model).\n"
     ]
    },
    {
     "name": "stdout",
     "output_type": "stream",
     "text": [
      "              precision    recall  f1-score   support\n",
      "\n",
      "  contextual       0.65      0.97      0.78       438\n",
      "      visual       0.98      0.76      0.86       973\n",
      "\n",
      "    accuracy                           0.83      1411\n",
      "   macro avg       0.81      0.87      0.82      1411\n",
      "weighted avg       0.88      0.83      0.83      1411\n",
      "\n"
     ]
    }
   ],
   "source": [
    "model01 = DescriptionClassifier()\n",
    "model01.to(device)\n",
    "\n",
    "missing_keys, unexpected_keys = model01.load_state_dict(torch.load(\"best_model_state_9000.bin\"))\n",
    "\n",
    "y_texts1, y_pred1, y_pred_probs1, y_test1 = get_predictions(model01, test_data_loader)\n",
    "print(classification_report(y_test1, y_pred1, target_names=[str(label) for label in class_names]))"
   ]
  },
  {
   "cell_type": "code",
   "execution_count": null,
   "id": "e285f53f-dda9-42b5-89e5-a2231bc8c9d1",
   "metadata": {},
   "outputs": [],
   "source": []
  },
  {
   "cell_type": "code",
   "execution_count": 58,
   "id": "a10835f8-7b8a-4e16-8920-1fe3df60e5c9",
   "metadata": {},
   "outputs": [
    {
     "name": "stderr",
     "output_type": "stream",
     "text": [
      "Some weights of the model checkpoint at bert-base-uncased were not used when initializing BertModel: ['cls.predictions.bias', 'cls.predictions.transform.LayerNorm.weight', 'cls.predictions.transform.LayerNorm.bias', 'cls.predictions.transform.dense.bias', 'cls.seq_relationship.weight', 'cls.predictions.decoder.weight', 'cls.predictions.transform.dense.weight', 'cls.seq_relationship.bias']\n",
      "- This IS expected if you are initializing BertModel from the checkpoint of a model trained on another task or with another architecture (e.g. initializing a BertForSequenceClassification model from a BertForPreTraining model).\n",
      "- This IS NOT expected if you are initializing BertModel from the checkpoint of a model that you expect to be exactly identical (initializing a BertForSequenceClassification model from a BertForSequenceClassification model).\n"
     ]
    },
    {
     "name": "stdout",
     "output_type": "stream",
     "text": [
      "              precision    recall  f1-score   support\n",
      "\n",
      "  contextual       0.83      0.83      0.83       438\n",
      "      visual       0.92      0.92      0.92       973\n",
      "\n",
      "    accuracy                           0.90      1411\n",
      "   macro avg       0.88      0.88      0.88      1411\n",
      "weighted avg       0.90      0.90      0.90      1411\n",
      "\n"
     ]
    }
   ],
   "source": [
    "model02 = DescriptionClassifier()\n",
    "model02.to(device)\n",
    "\n",
    "missing_keys, unexpected_keys = model02.load_state_dict(torch.load(\"best_model_state_alldata.bin\"))\n",
    "\n",
    "y_texts2, y_pred2, y_pred_probs2, y_test2 = get_predictions(model02, test_data_loader)\n",
    "print(classification_report(y_test2, y_pred2, target_names=[str(label) for label in class_names]))"
   ]
  },
  {
   "cell_type": "code",
   "execution_count": 60,
   "id": "6ab6d4d8-bb35-4336-99cc-4dc39170ce6d",
   "metadata": {},
   "outputs": [
    {
     "name": "stderr",
     "output_type": "stream",
     "text": [
      "Some weights of the model checkpoint at bert-base-uncased were not used when initializing BertModel: ['cls.predictions.bias', 'cls.predictions.transform.LayerNorm.weight', 'cls.predictions.transform.LayerNorm.bias', 'cls.predictions.transform.dense.bias', 'cls.seq_relationship.weight', 'cls.predictions.decoder.weight', 'cls.predictions.transform.dense.weight', 'cls.seq_relationship.bias']\n",
      "- This IS expected if you are initializing BertModel from the checkpoint of a model trained on another task or with another architecture (e.g. initializing a BertForSequenceClassification model from a BertForPreTraining model).\n",
      "- This IS NOT expected if you are initializing BertModel from the checkpoint of a model that you expect to be exactly identical (initializing a BertForSequenceClassification model from a BertForSequenceClassification model).\n"
     ]
    },
    {
     "name": "stdout",
     "output_type": "stream",
     "text": [
      "              precision    recall  f1-score   support\n",
      "\n",
      "  contextual       0.53      0.82      0.64       438\n",
      "      visual       0.89      0.67      0.76       973\n",
      "\n",
      "    accuracy                           0.72      1411\n",
      "   macro avg       0.71      0.75      0.70      1411\n",
      "weighted avg       0.78      0.72      0.73      1411\n",
      "\n"
     ]
    }
   ],
   "source": [
    "model03 = DescriptionClassifier()\n",
    "model03.to(device)\n",
    "\n",
    "missing_keys, unexpected_keys = model03.load_state_dict(torch.load(\"best_model_state1000.bin\"))\n",
    "\n",
    "y_texts3, y_pred3, y_pred_probs3, y_test3 = get_predictions(model03, test_data_loader)\n",
    "print(classification_report(y_test3, y_pred3, target_names=[str(label) for label in class_names]))"
   ]
  },
  {
   "cell_type": "code",
   "execution_count": 62,
   "id": "9d077a5f-2151-4c9b-89d8-e00544a6a310",
   "metadata": {},
   "outputs": [
    {
     "name": "stderr",
     "output_type": "stream",
     "text": [
      "Some weights of the model checkpoint at bert-base-uncased were not used when initializing BertModel: ['cls.predictions.bias', 'cls.predictions.transform.LayerNorm.weight', 'cls.predictions.transform.LayerNorm.bias', 'cls.predictions.transform.dense.bias', 'cls.seq_relationship.weight', 'cls.predictions.decoder.weight', 'cls.predictions.transform.dense.weight', 'cls.seq_relationship.bias']\n",
      "- This IS expected if you are initializing BertModel from the checkpoint of a model trained on another task or with another architecture (e.g. initializing a BertForSequenceClassification model from a BertForPreTraining model).\n",
      "- This IS NOT expected if you are initializing BertModel from the checkpoint of a model that you expect to be exactly identical (initializing a BertForSequenceClassification model from a BertForSequenceClassification model).\n"
     ]
    },
    {
     "name": "stdout",
     "output_type": "stream",
     "text": [
      "              precision    recall  f1-score   support\n",
      "\n",
      "  contextual       0.58      0.61      0.59       438\n",
      "      visual       0.82      0.80      0.81       973\n",
      "\n",
      "    accuracy                           0.74      1411\n",
      "   macro avg       0.70      0.70      0.70      1411\n",
      "weighted avg       0.74      0.74      0.74      1411\n",
      "\n"
     ]
    }
   ],
   "source": [
    "model04 = DescriptionClassifier()\n",
    "model04.to(device)\n",
    "\n",
    "missing_keys, unexpected_keys = model04.load_state_dict(torch.load(\"best_model_state1000_3000.bin\"))\n",
    "\n",
    "y_texts4, y_pred4, y_pred_probs4, y_test4 = get_predictions(model04, test_data_loader)\n",
    "print(classification_report(y_test4, y_pred4, target_names=[str(label) for label in class_names]))"
   ]
  },
  {
   "cell_type": "code",
   "execution_count": 75,
   "id": "10bc45c9-9a00-4158-8623-04a179ca972f",
   "metadata": {},
   "outputs": [
    {
     "name": "stderr",
     "output_type": "stream",
     "text": [
      "Some weights of the model checkpoint at bert-base-uncased were not used when initializing BertModel: ['cls.predictions.bias', 'cls.predictions.transform.LayerNorm.weight', 'cls.predictions.transform.LayerNorm.bias', 'cls.predictions.transform.dense.bias', 'cls.seq_relationship.weight', 'cls.predictions.decoder.weight', 'cls.predictions.transform.dense.weight', 'cls.seq_relationship.bias']\n",
      "- This IS expected if you are initializing BertModel from the checkpoint of a model trained on another task or with another architecture (e.g. initializing a BertForSequenceClassification model from a BertForPreTraining model).\n",
      "- This IS NOT expected if you are initializing BertModel from the checkpoint of a model that you expect to be exactly identical (initializing a BertForSequenceClassification model from a BertForSequenceClassification model).\n",
      "Truncation was not explicitly activated but `max_length` is provided a specific value, please use `truncation=True` to explicitly truncate examples to max length. Defaulting to 'longest_first' truncation strategy. If you encode pairs of sequences (GLUE-style) with the tokenizer you can select this strategy more precisely by providing a specific strategy to `truncation`.\n"
     ]
    },
    {
     "name": "stdout",
     "output_type": "stream",
     "text": [
      "              precision    recall  f1-score   support\n",
      "\n",
      "  contextual       0.88      0.92      0.90       445\n",
      "      visual       0.92      0.87      0.90       455\n",
      "\n",
      "    accuracy                           0.90       900\n",
      "   macro avg       0.90      0.90      0.90       900\n",
      "weighted avg       0.90      0.90      0.90       900\n",
      "\n"
     ]
    }
   ],
   "source": [
    "model05 = DescriptionClassifier()\n",
    "model05.to(device)\n",
    "\n",
    "missing_keys, unexpected_keys = model05.load_state_dict(torch.load(\"best_model_state_9000.bin\"))\n",
    "\n",
    "y_texts5, y_pred5, y_pred_probs5, y_test5 = get_predictions(model05, test_data_loader)\n",
    "print(classification_report(y_test5, y_pred5, target_names=[str(label) for label in class_names]))"
   ]
  },
  {
   "cell_type": "code",
   "execution_count": null,
   "id": "4d63fc57-d27a-47f3-854f-14340a2ccae5",
   "metadata": {},
   "outputs": [],
   "source": []
  }
 ],
 "metadata": {
  "kernelspec": {
   "display_name": "Python 3",
   "language": "python",
   "name": "python3"
  },
  "language_info": {
   "codemirror_mode": {
    "name": "ipython",
    "version": 3
   },
   "file_extension": ".py",
   "mimetype": "text/x-python",
   "name": "python",
   "nbconvert_exporter": "python",
   "pygments_lexer": "ipython3",
   "version": "3.8.10"
  }
 },
 "nbformat": 4,
 "nbformat_minor": 5
}
